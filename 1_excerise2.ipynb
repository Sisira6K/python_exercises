{
 "cells": [
  {
   "cell_type": "code",
   "execution_count": 34,
   "id": "222cfa32",
   "metadata": {},
   "outputs": [
    {
     "name": "stdout",
     "output_type": "stream",
     "text": [
      "enter the first value30\n",
      "enter the  second value90\n",
      "enter the third value60\n",
      "the values are valid\n",
      "90 is right angle\n",
      "30 is Acute angle\n",
      "60 is Acute angle\n"
     ]
    }
   ],
   "source": [
    "# A right triangle has one angle of 90°\n",
    "#A obtuse triangle has one angle of more than 90°\n",
    "#A triangle is acute if all three angles are less than 90°\n",
    "#Write a program that asks the user for the values of three angles in degrees.\n",
    "#First check if the entered values are valid. The values are only valid if they are >0 and if their sum is 180°. \n",
    "#If the entered values are valid, classify the triangle as right, acute or obtuse.\n",
    "\n",
    "\n",
    "fangle =int(input(\"enter the first value\"))\n",
    "sangle =int(input(\"enter the  second value\"))\n",
    "tangle =int(input(\"enter the third value\"))\n",
    "\n",
    "if ((fangle > 0) and ( sangle >0) and (tangle >0)) :\n",
    "     if ((fangle + sangle + tangle )==180):\n",
    "        print(\"the values are valid\")\n",
    "        if fangle ==90  :\n",
    "            print(fangle ,\"is Right angle\")\n",
    "        if sangle ==90 :\n",
    "            print(sangle,\"is right angle\")\n",
    "        if tangle ==90 :\n",
    "            print (tangle ,\"is right angle\")\n",
    "        if fangle >90  :\n",
    "            print(fangle ,\"is Obtuse angle\")\n",
    "        if sangle >90 :\n",
    "            print(sangle,\"is Obtuse angle\")\n",
    "        if tangle >90 :\n",
    "            print (tangle ,\"is Obtuse angle\")\n",
    "        if fangle <90  :\n",
    "            print(fangle ,\"is Acute angle\")\n",
    "        if sangle <90 :\n",
    "            print(sangle,\"is Acute angle\")\n",
    "        if tangle <90 :\n",
    "            print (tangle ,\"is Acute angle\")\n",
    "        \n",
    "        \n",
    "    \n",
    "    \n",
    "\n"
   ]
  }
 ],
 "metadata": {
  "kernelspec": {
   "display_name": "Python 3 (ipykernel)",
   "language": "python",
   "name": "python3"
  },
  "language_info": {
   "codemirror_mode": {
    "name": "ipython",
    "version": 3
   },
   "file_extension": ".py",
   "mimetype": "text/x-python",
   "name": "python",
   "nbconvert_exporter": "python",
   "pygments_lexer": "ipython3",
   "version": "3.11.3"
  }
 },
 "nbformat": 4,
 "nbformat_minor": 5
}
